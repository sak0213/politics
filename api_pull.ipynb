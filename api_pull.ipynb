{
 "cells": [
  {
   "cell_type": "code",
   "execution_count": 1,
   "metadata": {},
   "outputs": [],
   "source": [
    "import requests\n",
    "import pandas as pd\n",
    "from key_data import open_secret_key\n",
    "import time\n"
   ]
  },
  {
   "cell_type": "code",
   "execution_count": 2,
   "metadata": {},
   "outputs": [],
   "source": [
    "state_list = pd.read_csv(\"states.csv\")\n",
    "states = state_list[\"Abreviation\"].unique()"
   ]
  },
  {
   "cell_type": "code",
   "execution_count": 3,
   "metadata": {},
   "outputs": [],
   "source": [
    "url = \"http://www.opensecrets.org/api/?method=getLegislators&\"\n",
    "# tester = requests.get(f'{url}id=pa&apikey={open_secret_key}&output=json').json()\n",
    "id = []\n",
    "last_name = []\n",
    "first_name = []\n",
    "bioguide = []\n",
    "office = []\n",
    "party = []\n",
    "first_elected = []\n",
    "birthdate = []\n",
    "website = []"
   ]
  },
  {
   "cell_type": "code",
   "execution_count": null,
   "metadata": {},
   "outputs": [],
   "source": [
    "for state in states:\n",
    "    try:\n",
    "        req = requests.get(f'{url}id={state}&apikey={open_secret_key}&output=json').json()\n",
    "        for xxx in req[\"response\"][\"legislator\"]:\n",
    "            try:\n",
    "                id.append(xxx['@attributes']['cid'])  \n",
    "                last_name.append(xxx['@attributes']['lastname'])\n",
    "                first_name.append(xxx['@attributes']['firstlast'])\n",
    "                bioguide.append(xxx['@attributes']['bioguide_id'])\n",
    "                office.append(xxx['@attributes']['office'])\n",
    "                party.append(xxx['@attributes']['party'])\n",
    "                first_elected.append(xxx['@attributes']['first_elected'])\n",
    "                birthdate.append(xxx['@attributes']['birthdate'])\n",
    "                website.append(xxx['@attributes']['website'])\n",
    "            except:\n",
    "                print(\"shit\")\n",
    "            time.sleep(.25)\n",
    "    except:\n",
    "        print(f'{state}')\n"
   ]
  },
  {
   "cell_type": "code",
   "execution_count": null,
   "metadata": {},
   "outputs": [],
   "source": [
    "df = pd.DataFrame({\n",
    "    \"CID\":id,\n",
    "    \"Last Name\":last_name,\n",
    "    \"First Last\":first_name,\n",
    "    \"Bioguide ID\":bioguide,\n",
    "    \"Office\":office,\n",
    "    \"Party\":party,\n",
    "    \"First Elected\":first_elected,\n",
    "    \"Birth Date\":birthdate,\n",
    "    \"Website\": website\n",
    "})"
   ]
  },
  {
   "cell_type": "code",
   "execution_count": null,
   "metadata": {},
   "outputs": [],
   "source": [
    "df.head(15)\n",
    "len(df)"
   ]
  },
  {
   "cell_type": "code",
   "execution_count": null,
   "metadata": {},
   "outputs": [],
   "source": [
    "# df.to_csv(\"legislators.csv\")"
   ]
  }
 ],
 "metadata": {
  "interpreter": {
   "hash": "3b32922ae442944bae51de5c420d7545d4126864cdc0e7cb358b7d9924f39d3e"
  },
  "kernelspec": {
   "display_name": "Python 3.9.6 64-bit ('PythonData': conda)",
   "name": "python3"
  },
  "language_info": {
   "codemirror_mode": {
    "name": "ipython",
    "version": 3
   },
   "file_extension": ".py",
   "mimetype": "text/x-python",
   "name": "python",
   "nbconvert_exporter": "python",
   "pygments_lexer": "ipython3",
   "version": "3.9.6"
  },
  "orig_nbformat": 4
 },
 "nbformat": 4,
 "nbformat_minor": 2
}
